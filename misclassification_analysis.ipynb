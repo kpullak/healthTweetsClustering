{
 "cells": [
  {
   "cell_type": "code",
   "execution_count": 1,
   "metadata": {},
   "outputs": [],
   "source": [
    "import numpy as np\n",
    "import pandas as pd\n",
    "\n",
    "import seaborn as sns\n",
    "import matplotlib.pyplot as plt\n",
    "\n",
    "from sklearn import metrics\n",
    "from sklearn.metrics import confusion_matrix\n",
    "from sklearn.linear_model import LogisticRegression\n",
    "from sklearn.model_selection import train_test_split\n",
    "from sklearn.feature_extraction.text import TfidfVectorizer"
   ]
  },
  {
   "cell_type": "code",
   "execution_count": 2,
   "metadata": {},
   "outputs": [
    {
     "data": {
      "text/plain": [
       "LogisticRegression(C=1.0, class_weight=None, dual=False, fit_intercept=True,\n",
       "                   intercept_scaling=1, l1_ratio=None, max_iter=100,\n",
       "                   multi_class='auto', n_jobs=None, penalty='l2',\n",
       "                   random_state=0, solver='lbfgs', tol=0.0001, verbose=0,\n",
       "                   warm_start=False)"
      ]
     },
     "execution_count": 2,
     "metadata": {},
     "output_type": "execute_result"
    }
   ],
   "source": [
    "# read the tweet_cluster_mapping that we have prepared and train the best performing classifier\n",
    "# logistic regression after splitting the dataset into training and testing (0.67 & 0.33 ratio)\n",
    "df = pd.read_csv('tweet_cluster_mapping.csv')\n",
    "\n",
    "# the best performing model is - LogisticRegression, retraining the model for deeper insights\n",
    "# into misclassification\n",
    "model = LogisticRegression(random_state=0)\n",
    "\n",
    "# vectorizing the tweets for analysis using tf-idf methods\n",
    "tfidf = TfidfVectorizer(sublinear_tf=True, min_df=5, norm='l2',\n",
    "                        encoding='latin-1', ngram_range=(1, 2),\n",
    "                        stop_words='english')\n",
    "\n",
    "# extracting features from the tf-idf vectorization output on the tweets\n",
    "features = tfidf.fit_transform(df['tweet']).toarray()\n",
    "labels = df['cluster_number']\n",
    "\n",
    "# split the dataset into training and testing (0.67 & 0.33 ratio)\n",
    "X_train, X_test, y_train, y_test, indices_train, indices_test = \\\n",
    "    train_test_split(features, labels, df.index, test_size=0.33, random_state=0)\n",
    "model.fit(X_train, y_train)"
   ]
  },
  {
   "cell_type": "code",
   "execution_count": 3,
   "metadata": {},
   "outputs": [
    {
     "name": "stdout",
     "output_type": "stream",
     "text": [
      "[[ 62  77   4   9   2  32  11]\n",
      " [ 20 248   7   4   3  48  10]\n",
      " [ 15  68  15   5   1  34   7]\n",
      " [ 15  50   3  17   3  10   1]\n",
      " [ 21  56   7   3  12  20   4]\n",
      " [ 37 103   6   1   2 121   5]\n",
      " [ 18  54   2   2   1  20  21]]\n"
     ]
    }
   ],
   "source": [
    "# using the trained logistic regression model, predict the labels on the test_dataset\n",
    "y_pred = model.predict(X_test)\n",
    "\n",
    "# compute the confusion matrix from the ground_truth labels and the model generated prediction labels\n",
    "conf_mat = confusion_matrix(y_test, y_pred)\n",
    "print(conf_mat)"
   ]
  },
  {
   "cell_type": "code",
   "execution_count": 4,
   "metadata": {},
   "outputs": [
    {
     "name": "stdout",
     "output_type": "stream",
     "text": [
      "              precision    recall  f1-score   support\n",
      "\n",
      "         0.0       0.33      0.31      0.32       197\n",
      "         1.0       0.38      0.73      0.50       340\n",
      "         2.0       0.34      0.10      0.16       145\n",
      "         3.0       0.41      0.17      0.24        99\n",
      "         4.0       0.50      0.10      0.16       123\n",
      "         5.0       0.42      0.44      0.43       275\n",
      "         6.0       0.36      0.18      0.24       118\n",
      "\n",
      "    accuracy                           0.38      1297\n",
      "   macro avg       0.39      0.29      0.29      1297\n",
      "weighted avg       0.39      0.38      0.34      1297\n",
      "\n"
     ]
    }
   ],
   "source": [
    "# classification report showing the main classification metrics\n",
    "print(metrics.classification_report(y_test, y_pred))"
   ]
  },
  {
   "cell_type": "code",
   "execution_count": 5,
   "metadata": {},
   "outputs": [
    {
     "data": {
      "text/plain": [
       "Text(0.5, 42.0, 'Predicted')"
      ]
     },
     "execution_count": 5,
     "metadata": {},
     "output_type": "execute_result"
    },
    {
     "data": {
      "image/png": "[encoded data removed]",
      "text/plain": [
       "<Figure size 720x504 with 2 Axes>"
      ]
     },
     "metadata": {
      "needs_background": "light"
     },
     "output_type": "display_data"
    }
   ],
   "source": [
    "# plotting the confusion matrix in terms of a heatmap using seaborn library\n",
    "\n",
    "df_cm = pd.DataFrame(conf_mat, index = [i for i in \"0123456\"],\n",
    "                  columns = [i for i in \"0123456\"])\n",
    "plt.figure(figsize=(10,7))\n",
    "sns.heatmap(df_cm, annot=True)\n",
    "plt.ylabel('Actual')\n",
    "plt.xlabel('Predicted')"
   ]
  },
  {
   "cell_type": "code",
   "execution_count": 6,
   "metadata": {},
   "outputs": [
    {
     "name": "stdout",
     "output_type": "stream",
     "text": [
      "# '0':\n",
      "  . Top unigrams:\n",
      "       . video\n",
      "       . savile\n",
      "  . Top bigrams:\n",
      "       . video ebola\n",
      "       . video uk\n",
      "# '1':\n",
      "  . Top unigrams:\n",
      "       . aampe\n",
      "       . hospital\n",
      "  . Top bigrams:\n",
      "       . dementia patients\n",
      "       . special measures\n",
      "# '2':\n",
      "  . Top unigrams:\n",
      "       . cigarettes\n",
      "       . linked\n",
      "  . Top bigrams:\n",
      "       . cancer drug\n",
      "       . nhs staff\n",
      "# '3':\n",
      "  . Top unigrams:\n",
      "       . warning\n",
      "       . review\n",
      "  . Top bigrams:\n",
      "       . aampe waiting\n",
      "       . video warning\n",
      "# '4':\n",
      "  . Top unigrams:\n",
      "       . video\n",
      "       . discovery\n",
      "  . Top bigrams:\n",
      "       . video ebola\n",
      "       . video mental\n",
      "# '5':\n",
      "  . Top unigrams:\n",
      "       . young\n",
      "       . emergency\n",
      "  . Top bigrams:\n",
      "       . video mental\n",
      "       . mental health\n",
      "# '6':\n",
      "  . Top unigrams:\n",
      "       . ebola\n",
      "       . antibiotics\n",
      "  . Top bigrams:\n",
      "       . hospital death\n",
      "       . cancer patients\n"
     ]
    }
   ],
   "source": [
    "# analyzing the mis-classifications of the best performing model for deeper insights\n",
    "N = 2 # number of n-grams we want to extract for our analysis\n",
    "\n",
    "cluster_indices = sorted(df['cluster_number'].unique().tolist())\n",
    "for cluster_number in cluster_indices:\n",
    "    indices = np.argsort(model.coef_[int(cluster_number)])\n",
    "    feature_names = np.array(tfidf.get_feature_names())[indices]\n",
    "    unigrams = [v for v in reversed(feature_names) if len(v.split(' ')) == 1][:N]\n",
    "    bigrams = [v for v in reversed(feature_names) if len(v.split(' ')) == 2][:N]\n",
    "    print(\"# '{}':\".format(int(cluster_number)))\n",
    "    print(\"  . Top unigrams:\\n       . {}\".format('\\n       . '.join(unigrams)))\n",
    "    print(\"  . Top bigrams:\\n       . {}\".format('\\n       . '.join(bigrams)))"
   ]
  }
 ],
 "metadata": {
  "kernelspec": {
   "display_name": "Python 3",
   "language": "python",
   "name": "python3"
  },
  "language_info": {
   "codemirror_mode": {
    "name": "ipython",
    "version": 3
   },
   "file_extension": ".py",
   "mimetype": "text/x-python",
   "name": "python",
   "nbconvert_exporter": "python",
   "pygments_lexer": "ipython3",
   "version": "3.7.6"
  }
 },
 "nbformat": 4,
 "nbformat_minor": 4
}
