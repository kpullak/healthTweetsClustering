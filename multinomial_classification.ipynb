{
 "cells": [
  {
   "cell_type": "code",
   "execution_count": 1,
   "metadata": {},
   "outputs": [],
   "source": [
    "import pandas as pd\n",
    "import seaborn as sns\n",
    "import matplotlib.pyplot as plt\n",
    "\n",
    "from sklearn.model_selection import train_test_split"
   ]
  },
  {
   "cell_type": "code",
   "execution_count": 2,
   "metadata": {},
   "outputs": [],
   "source": [
    "# reading the tweet_cluster_mapping csv file and splitting it to training and testing datasets\n",
    "df = pd.read_csv('tweet_cluster_mapping.csv')\n",
    "\n",
    "X = df['tweet']\n",
    "y = df['cluster_number']\n",
    "\n",
    "X_train, X_test, y_train, y_test = train_test_split(X, y, test_size=0.3, random_state = 42)"
   ]
  },
  {
   "cell_type": "code",
   "execution_count": 3,
   "metadata": {},
   "outputs": [
    {
     "name": "stdout",
     "output_type": "stream",
     "text": [
      "                model_name  fold_idx  accuracy\n",
      "0   RandomForestClassifier         0  0.270992\n",
      "1   RandomForestClassifier         1  0.269720\n",
      "2   RandomForestClassifier         2  0.270992\n",
      "3   RandomForestClassifier         3  0.270992\n",
      "4   RandomForestClassifier         4  0.270064\n",
      "5                LinearSVC         0  0.344784\n",
      "6                LinearSVC         1  0.367684\n",
      "7                LinearSVC         2  0.372774\n",
      "8                LinearSVC         3  0.333333\n",
      "9                LinearSVC         4  0.379618\n",
      "10           MultinomialNB         0  0.366412\n",
      "11           MultinomialNB         1  0.349873\n",
      "12           MultinomialNB         2  0.366412\n",
      "13           MultinomialNB         3  0.349873\n",
      "14           MultinomialNB         4  0.349045\n",
      "15      LogisticRegression         0  0.384224\n",
      "16      LogisticRegression         1  0.374046\n",
      "17      LogisticRegression         2  0.395674\n",
      "18      LogisticRegression         3  0.358779\n",
      "19      LogisticRegression         4  0.368153\n"
     ]
    }
   ],
   "source": [
    "# training multiple classifiers at the same time to choose the best performing model\n",
    "# using a cross-validation of 5 and averaging the accuracies of all the classifiers\n",
    "# to choose the best performing model\n",
    "\n",
    "from sklearn.svm import LinearSVC\n",
    "from sklearn.naive_bayes import MultinomialNB\n",
    "from sklearn.linear_model import LogisticRegression\n",
    "from sklearn.ensemble import RandomForestClassifier\n",
    "from sklearn.model_selection import cross_val_score\n",
    "\n",
    "from sklearn.feature_extraction.text import TfidfVectorizer\n",
    "from sklearn.feature_extraction.text import CountVectorizer\n",
    "from sklearn.feature_extraction.text import TfidfTransformer\n",
    "\n",
    "tfidf = TfidfVectorizer(sublinear_tf=True, min_df=5, norm='l2',\n",
    "                        encoding='latin-1', ngram_range=(1, 2),\n",
    "                        stop_words='english')\n",
    "\n",
    "features = tfidf.fit_transform(df['tweet']).toarray()\n",
    "labels = df['cluster_number']\n",
    "\n",
    "models = [\n",
    "    RandomForestClassifier(n_estimators=200, max_depth=3, random_state=0),\n",
    "    LinearSVC(),\n",
    "    MultinomialNB(),\n",
    "    LogisticRegression(random_state=0),\n",
    "]\n",
    "\n",
    "CV = 5\n",
    "cv_df = pd.DataFrame(index=range(CV * len(models)))\n",
    "entries = []\n",
    "for model in models:\n",
    "  model_name = model.__class__.__name__\n",
    "  accuracies = cross_val_score(model, features, labels, scoring='accuracy', cv=CV)\n",
    "  for fold_idx, accuracy in enumerate(accuracies):\n",
    "    entries.append((model_name, fold_idx, accuracy))\n",
    "cv_df = pd.DataFrame(entries, columns=['model_name', 'fold_idx', 'accuracy'])\n",
    "\n",
    "print(cv_df)"
   ]
  },
  {
   "cell_type": "code",
   "execution_count": 4,
   "metadata": {},
   "outputs": [
    {
     "name": "stdout",
     "output_type": "stream",
     "text": [
      "model_name\n",
      "LinearSVC                 0.359639\n",
      "LogisticRegression        0.376175\n",
      "MultinomialNB             0.356323\n",
      "RandomForestClassifier    0.270552\n",
      "Name: accuracy, dtype: float64\n"
     ]
    }
   ],
   "source": [
    "# get the mean of each model from the cross-validation scores to choose the best performing model\n",
    "print(cv_df.groupby('model_name').accuracy.mean())"
   ]
  },
  {
   "cell_type": "code",
   "execution_count": 5,
   "metadata": {},
   "outputs": [
    {
     "data": {
      "image/png": "[encoded data removed]",
      "text/plain": [
       "<Figure size 432x288 with 1 Axes>"
      ]
     },
     "metadata": {
      "needs_background": "light"
     },
     "output_type": "display_data"
    }
   ],
   "source": [
    "# pictorial representation of all the models\n",
    "sns.boxplot(x='model_name', y='accuracy', data=cv_df)\n",
    "sns.stripplot(x='model_name', y='accuracy', data=cv_df, size=8, jitter=True, edgecolor=\"gray\", linewidth=2)\n",
    "plt.show()"
   ]
  },
  {
   "cell_type": "code",
   "execution_count": 6,
   "metadata": {},
   "outputs": [],
   "source": [
    "# the best performing model is - LogisticRegression\n",
    "from sklearn.model_selection import train_test_split\n",
    "from sklearn.linear_model import LogisticRegression\n",
    "\n",
    "model = LogisticRegression(random_state=0)\n",
    "\n",
    "X_train, X_test, y_train, y_test, indices_train, indices_test = \\\n",
    "    train_test_split(features, labels, df.index, test_size=0.33, random_state=0)\n",
    "model.fit(X_train, y_train)\n",
    "y_pred = model.predict(X_test)"
   ]
  },
  {
   "cell_type": "code",
   "execution_count": 7,
   "metadata": {},
   "outputs": [
    {
     "data": {
      "text/plain": [
       "array([[ 62,  77,   4,   9,   2,  32,  11],\n",
       "       [ 20, 248,   7,   4,   3,  48,  10],\n",
       "       [ 15,  68,  15,   5,   1,  34,   7],\n",
       "       [ 15,  50,   3,  17,   3,  10,   1],\n",
       "       [ 21,  56,   7,   3,  12,  20,   4],\n",
       "       [ 37, 103,   6,   1,   2, 121,   5],\n",
       "       [ 18,  54,   2,   2,   1,  20,  21]])"
      ]
     },
     "execution_count": 7,
     "metadata": {},
     "output_type": "execute_result"
    }
   ],
   "source": [
    "# computing the confusion matrix for the best performing model\n",
    "from sklearn.metrics import confusion_matrix\n",
    "\n",
    "conf_mat = confusion_matrix(y_test, y_pred)\n",
    "conf_mat"
   ]
  },
  {
   "cell_type": "code",
   "execution_count": 8,
   "metadata": {},
   "outputs": [
    {
     "name": "stdout",
     "output_type": "stream",
     "text": [
      "              precision    recall  f1-score   support\n",
      "\n",
      "         0.0       0.33      0.31      0.32       197\n",
      "         1.0       0.38      0.73      0.50       340\n",
      "         2.0       0.34      0.10      0.16       145\n",
      "         3.0       0.41      0.17      0.24        99\n",
      "         4.0       0.50      0.10      0.16       123\n",
      "         5.0       0.42      0.44      0.43       275\n",
      "         6.0       0.36      0.18      0.24       118\n",
      "\n",
      "    accuracy                           0.38      1297\n",
      "   macro avg       0.39      0.29      0.29      1297\n",
      "weighted avg       0.39      0.38      0.34      1297\n",
      "\n"
     ]
    }
   ],
   "source": [
    "# computing the metrics for evaluation\n",
    "from sklearn import metrics\n",
    "print(metrics.classification_report(y_test, y_pred))"
   ]
  }
 ],
 "metadata": {
  "kernelspec": {
   "display_name": "Python 3",
   "language": "python",
   "name": "python3"
  },
  "language_info": {
   "codemirror_mode": {
    "name": "ipython",
    "version": 3
   },
   "file_extension": ".py",
   "mimetype": "text/x-python",
   "name": "python",
   "nbconvert_exporter": "python",
   "pygments_lexer": "ipython3",
   "version": "3.7.6"
  }
 },
 "nbformat": 4,
 "nbformat_minor": 4
}
